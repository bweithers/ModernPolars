{
 "cells": [
  {
   "cell_type": "code",
   "execution_count": 5,
   "metadata": {},
   "outputs": [],
   "source": [
    "from pathlib import Path"
   ]
  },
  {
   "cell_type": "code",
   "execution_count": 1,
   "metadata": {},
   "outputs": [],
   "source": [
    "import polars as pl"
   ]
  },
  {
   "cell_type": "code",
   "execution_count": 6,
   "metadata": {},
   "outputs": [],
   "source": [
    "data_dir = Path(\"./data/\")\n",
    "extracted = data_dir / \"On_Time_Reporting_Carrier_On_Time_Performance_(1987_present)_2022_1.csv\""
   ]
  },
  {
   "cell_type": "code",
   "execution_count": 9,
   "metadata": {},
   "outputs": [
    {
     "data": {
      "text/html": [
       "<div><style>\n",
       ".dataframe > thead > tr,\n",
       ".dataframe > tbody > tr {\n",
       "  text-align: right;\n",
       "  white-space: pre-wrap;\n",
       "}\n",
       "</style>\n",
       "<small>shape: (537_902, 110)</small><table border=\"1\" class=\"dataframe\"><thead><tr><th>Year</th><th>Quarter</th><th>Month</th><th>DayofMonth</th><th>DayOfWeek</th><th>FlightDate</th><th>Reporting_Airline</th><th>DOT_ID_Reporting_Airline</th><th>IATA_CODE_Reporting_Airline</th><th>Tail_Number</th><th>Flight_Number_Reporting_Airline</th><th>OriginAirportID</th><th>OriginAirportSeqID</th><th>OriginCityMarketID</th><th>Origin</th><th>OriginCityName</th><th>OriginState</th><th>OriginStateFips</th><th>OriginStateName</th><th>OriginWac</th><th>DestAirportID</th><th>DestAirportSeqID</th><th>DestCityMarketID</th><th>Dest</th><th>DestCityName</th><th>DestState</th><th>DestStateFips</th><th>DestStateName</th><th>DestWac</th><th>CRSDepTime</th><th>DepTime</th><th>DepDelay</th><th>DepDelayMinutes</th><th>DepDel15</th><th>DepartureDelayGroups</th><th>DepTimeBlk</th><th>TaxiOut</th><th>&hellip;</th><th>Div1TotalGTime</th><th>Div1LongestGTime</th><th>Div1WheelsOff</th><th>Div1TailNum</th><th>Div2Airport</th><th>Div2AirportID</th><th>Div2AirportSeqID</th><th>Div2WheelsOn</th><th>Div2TotalGTime</th><th>Div2LongestGTime</th><th>Div2WheelsOff</th><th>Div2TailNum</th><th>Div3Airport</th><th>Div3AirportID</th><th>Div3AirportSeqID</th><th>Div3WheelsOn</th><th>Div3TotalGTime</th><th>Div3LongestGTime</th><th>Div3WheelsOff</th><th>Div3TailNum</th><th>Div4Airport</th><th>Div4AirportID</th><th>Div4AirportSeqID</th><th>Div4WheelsOn</th><th>Div4TotalGTime</th><th>Div4LongestGTime</th><th>Div4WheelsOff</th><th>Div4TailNum</th><th>Div5Airport</th><th>Div5AirportID</th><th>Div5AirportSeqID</th><th>Div5WheelsOn</th><th>Div5TotalGTime</th><th>Div5LongestGTime</th><th>Div5WheelsOff</th><th>Div5TailNum</th><th></th></tr><tr><td>i64</td><td>i64</td><td>i64</td><td>i64</td><td>i64</td><td>str</td><td>str</td><td>i64</td><td>str</td><td>str</td><td>i64</td><td>i64</td><td>i64</td><td>i64</td><td>str</td><td>str</td><td>str</td><td>i64</td><td>str</td><td>i64</td><td>i64</td><td>i64</td><td>i64</td><td>str</td><td>str</td><td>str</td><td>i64</td><td>str</td><td>i64</td><td>i64</td><td>str</td><td>f64</td><td>f64</td><td>f64</td><td>i64</td><td>str</td><td>f64</td><td>&hellip;</td><td>str</td><td>str</td><td>str</td><td>str</td><td>str</td><td>str</td><td>str</td><td>str</td><td>str</td><td>str</td><td>str</td><td>str</td><td>str</td><td>str</td><td>str</td><td>str</td><td>str</td><td>str</td><td>str</td><td>str</td><td>str</td><td>str</td><td>str</td><td>str</td><td>str</td><td>str</td><td>str</td><td>str</td><td>str</td><td>str</td><td>str</td><td>str</td><td>str</td><td>str</td><td>str</td><td>str</td><td>str</td></tr></thead><tbody><tr><td>2022</td><td>1</td><td>1</td><td>14</td><td>5</td><td>&quot;2022-01-14&quot;</td><td>&quot;YX&quot;</td><td>20452</td><td>&quot;YX&quot;</td><td>&quot;N119HQ&quot;</td><td>4879</td><td>11066</td><td>1106606</td><td>31066</td><td>&quot;CMH&quot;</td><td>&quot;Columbus, OH&quot;</td><td>&quot;OH&quot;</td><td>39</td><td>&quot;Ohio&quot;</td><td>44</td><td>11278</td><td>1127805</td><td>30852</td><td>&quot;DCA&quot;</td><td>&quot;Washington, DC&quot;</td><td>&quot;VA&quot;</td><td>51</td><td>&quot;Virginia&quot;</td><td>38</td><td>1224</td><td>&quot;1221&quot;</td><td>-3.0</td><td>0.0</td><td>0.0</td><td>-1</td><td>&quot;1200-1259&quot;</td><td>28.0</td><td>&hellip;</td><td>null</td><td>null</td><td>&quot;&quot;</td><td>&quot;&quot;</td><td>&quot;&quot;</td><td>null</td><td>null</td><td>&quot;&quot;</td><td>null</td><td>null</td><td>&quot;&quot;</td><td>&quot;&quot;</td><td>&quot;&quot;</td><td>null</td><td>null</td><td>&quot;&quot;</td><td>null</td><td>null</td><td>&quot;&quot;</td><td>&quot;&quot;</td><td>&quot;&quot;</td><td>null</td><td>null</td><td>&quot;&quot;</td><td>null</td><td>null</td><td>&quot;&quot;</td><td>&quot;&quot;</td><td>&quot;&quot;</td><td>null</td><td>null</td><td>&quot;&quot;</td><td>null</td><td>null</td><td>&quot;&quot;</td><td>&quot;&quot;</td><td>null</td></tr><tr><td>2022</td><td>1</td><td>1</td><td>15</td><td>6</td><td>&quot;2022-01-15&quot;</td><td>&quot;YX&quot;</td><td>20452</td><td>&quot;YX&quot;</td><td>&quot;N122HQ&quot;</td><td>4879</td><td>11066</td><td>1106606</td><td>31066</td><td>&quot;CMH&quot;</td><td>&quot;Columbus, OH&quot;</td><td>&quot;OH&quot;</td><td>39</td><td>&quot;Ohio&quot;</td><td>44</td><td>11278</td><td>1127805</td><td>30852</td><td>&quot;DCA&quot;</td><td>&quot;Washington, DC&quot;</td><td>&quot;VA&quot;</td><td>51</td><td>&quot;Virginia&quot;</td><td>38</td><td>1224</td><td>&quot;1214&quot;</td><td>-10.0</td><td>0.0</td><td>0.0</td><td>-1</td><td>&quot;1200-1259&quot;</td><td>19.0</td><td>&hellip;</td><td>null</td><td>null</td><td>&quot;&quot;</td><td>&quot;&quot;</td><td>&quot;&quot;</td><td>null</td><td>null</td><td>&quot;&quot;</td><td>null</td><td>null</td><td>&quot;&quot;</td><td>&quot;&quot;</td><td>&quot;&quot;</td><td>null</td><td>null</td><td>&quot;&quot;</td><td>null</td><td>null</td><td>&quot;&quot;</td><td>&quot;&quot;</td><td>&quot;&quot;</td><td>null</td><td>null</td><td>&quot;&quot;</td><td>null</td><td>null</td><td>&quot;&quot;</td><td>&quot;&quot;</td><td>&quot;&quot;</td><td>null</td><td>null</td><td>&quot;&quot;</td><td>null</td><td>null</td><td>&quot;&quot;</td><td>&quot;&quot;</td><td>null</td></tr><tr><td>2022</td><td>1</td><td>1</td><td>16</td><td>7</td><td>&quot;2022-01-16&quot;</td><td>&quot;YX&quot;</td><td>20452</td><td>&quot;YX&quot;</td><td>&quot;N412YX&quot;</td><td>4879</td><td>11066</td><td>1106606</td><td>31066</td><td>&quot;CMH&quot;</td><td>&quot;Columbus, OH&quot;</td><td>&quot;OH&quot;</td><td>39</td><td>&quot;Ohio&quot;</td><td>44</td><td>11278</td><td>1127805</td><td>30852</td><td>&quot;DCA&quot;</td><td>&quot;Washington, DC&quot;</td><td>&quot;VA&quot;</td><td>51</td><td>&quot;Virginia&quot;</td><td>38</td><td>1224</td><td>&quot;1218&quot;</td><td>-6.0</td><td>0.0</td><td>0.0</td><td>-1</td><td>&quot;1200-1259&quot;</td><td>16.0</td><td>&hellip;</td><td>null</td><td>null</td><td>&quot;&quot;</td><td>&quot;&quot;</td><td>&quot;&quot;</td><td>null</td><td>null</td><td>&quot;&quot;</td><td>null</td><td>null</td><td>&quot;&quot;</td><td>&quot;&quot;</td><td>&quot;&quot;</td><td>null</td><td>null</td><td>&quot;&quot;</td><td>null</td><td>null</td><td>&quot;&quot;</td><td>&quot;&quot;</td><td>&quot;&quot;</td><td>null</td><td>null</td><td>&quot;&quot;</td><td>null</td><td>null</td><td>&quot;&quot;</td><td>&quot;&quot;</td><td>&quot;&quot;</td><td>null</td><td>null</td><td>&quot;&quot;</td><td>null</td><td>null</td><td>&quot;&quot;</td><td>&quot;&quot;</td><td>null</td></tr><tr><td>&hellip;</td><td>&hellip;</td><td>&hellip;</td><td>&hellip;</td><td>&hellip;</td><td>&hellip;</td><td>&hellip;</td><td>&hellip;</td><td>&hellip;</td><td>&hellip;</td><td>&hellip;</td><td>&hellip;</td><td>&hellip;</td><td>&hellip;</td><td>&hellip;</td><td>&hellip;</td><td>&hellip;</td><td>&hellip;</td><td>&hellip;</td><td>&hellip;</td><td>&hellip;</td><td>&hellip;</td><td>&hellip;</td><td>&hellip;</td><td>&hellip;</td><td>&hellip;</td><td>&hellip;</td><td>&hellip;</td><td>&hellip;</td><td>&hellip;</td><td>&hellip;</td><td>&hellip;</td><td>&hellip;</td><td>&hellip;</td><td>&hellip;</td><td>&hellip;</td><td>&hellip;</td><td>&hellip;</td><td>&hellip;</td><td>&hellip;</td><td>&hellip;</td><td>&hellip;</td><td>&hellip;</td><td>&hellip;</td><td>&hellip;</td><td>&hellip;</td><td>&hellip;</td><td>&hellip;</td><td>&hellip;</td><td>&hellip;</td><td>&hellip;</td><td>&hellip;</td><td>&hellip;</td><td>&hellip;</td><td>&hellip;</td><td>&hellip;</td><td>&hellip;</td><td>&hellip;</td><td>&hellip;</td><td>&hellip;</td><td>&hellip;</td><td>&hellip;</td><td>&hellip;</td><td>&hellip;</td><td>&hellip;</td><td>&hellip;</td><td>&hellip;</td><td>&hellip;</td><td>&hellip;</td><td>&hellip;</td><td>&hellip;</td><td>&hellip;</td><td>&hellip;</td><td>&hellip;</td><td>&hellip;</td></tr><tr><td>2022</td><td>1</td><td>1</td><td>6</td><td>4</td><td>&quot;2022-01-06&quot;</td><td>&quot;DL&quot;</td><td>19790</td><td>&quot;DL&quot;</td><td>&quot;N989AT&quot;</td><td>1579</td><td>11057</td><td>1105703</td><td>31057</td><td>&quot;CLT&quot;</td><td>&quot;Charlotte, NC&quot;</td><td>&quot;NC&quot;</td><td>37</td><td>&quot;North Carolina&quot;</td><td>36</td><td>10397</td><td>1039707</td><td>30397</td><td>&quot;ATL&quot;</td><td>&quot;Atlanta, GA&quot;</td><td>&quot;GA&quot;</td><td>13</td><td>&quot;Georgia&quot;</td><td>34</td><td>1258</td><td>&quot;1257&quot;</td><td>-1.0</td><td>0.0</td><td>0.0</td><td>-1</td><td>&quot;1200-1259&quot;</td><td>15.0</td><td>&hellip;</td><td>null</td><td>null</td><td>&quot;&quot;</td><td>&quot;&quot;</td><td>&quot;&quot;</td><td>null</td><td>null</td><td>&quot;&quot;</td><td>null</td><td>null</td><td>&quot;&quot;</td><td>&quot;&quot;</td><td>&quot;&quot;</td><td>null</td><td>null</td><td>&quot;&quot;</td><td>null</td><td>null</td><td>&quot;&quot;</td><td>&quot;&quot;</td><td>&quot;&quot;</td><td>null</td><td>null</td><td>&quot;&quot;</td><td>null</td><td>null</td><td>&quot;&quot;</td><td>&quot;&quot;</td><td>&quot;&quot;</td><td>null</td><td>null</td><td>&quot;&quot;</td><td>null</td><td>null</td><td>&quot;&quot;</td><td>&quot;&quot;</td><td>null</td></tr><tr><td>2022</td><td>1</td><td>1</td><td>6</td><td>4</td><td>&quot;2022-01-06&quot;</td><td>&quot;DL&quot;</td><td>19790</td><td>&quot;DL&quot;</td><td>&quot;N815DN&quot;</td><td>1580</td><td>14869</td><td>1486903</td><td>34614</td><td>&quot;SLC&quot;</td><td>&quot;Salt Lake City, UT&quot;</td><td>&quot;UT&quot;</td><td>49</td><td>&quot;Utah&quot;</td><td>87</td><td>14057</td><td>1405702</td><td>34057</td><td>&quot;PDX&quot;</td><td>&quot;Portland, OR&quot;</td><td>&quot;OR&quot;</td><td>41</td><td>&quot;Oregon&quot;</td><td>92</td><td>2240</td><td>&quot;2231&quot;</td><td>-9.0</td><td>0.0</td><td>0.0</td><td>-1</td><td>&quot;2200-2259&quot;</td><td>10.0</td><td>&hellip;</td><td>null</td><td>null</td><td>&quot;&quot;</td><td>&quot;&quot;</td><td>&quot;&quot;</td><td>null</td><td>null</td><td>&quot;&quot;</td><td>null</td><td>null</td><td>&quot;&quot;</td><td>&quot;&quot;</td><td>&quot;&quot;</td><td>null</td><td>null</td><td>&quot;&quot;</td><td>null</td><td>null</td><td>&quot;&quot;</td><td>&quot;&quot;</td><td>&quot;&quot;</td><td>null</td><td>null</td><td>&quot;&quot;</td><td>null</td><td>null</td><td>&quot;&quot;</td><td>&quot;&quot;</td><td>&quot;&quot;</td><td>null</td><td>null</td><td>&quot;&quot;</td><td>null</td><td>null</td><td>&quot;&quot;</td><td>&quot;&quot;</td><td>null</td></tr></tbody></table></div>"
      ],
      "text/plain": [
       "shape: (537_902, 110)\n",
       "┌──────┬─────────┬───────┬────────────┬───┬──────────────────┬───────────────┬─────────────┬──────┐\n",
       "│ Year ┆ Quarter ┆ Month ┆ DayofMonth ┆ … ┆ Div5LongestGTime ┆ Div5WheelsOff ┆ Div5TailNum ┆      │\n",
       "│ ---  ┆ ---     ┆ ---   ┆ ---        ┆   ┆ ---              ┆ ---           ┆ ---         ┆ ---  │\n",
       "│ i64  ┆ i64     ┆ i64   ┆ i64        ┆   ┆ str              ┆ str           ┆ str         ┆ str  │\n",
       "╞══════╪═════════╪═══════╪════════════╪═══╪══════════════════╪═══════════════╪═════════════╪══════╡\n",
       "│ 2022 ┆ 1       ┆ 1     ┆ 14         ┆ … ┆ null             ┆               ┆             ┆ null │\n",
       "│ 2022 ┆ 1       ┆ 1     ┆ 15         ┆ … ┆ null             ┆               ┆             ┆ null │\n",
       "│ 2022 ┆ 1       ┆ 1     ┆ 16         ┆ … ┆ null             ┆               ┆             ┆ null │\n",
       "│ …    ┆ …       ┆ …     ┆ …          ┆ … ┆ …                ┆ …             ┆ …           ┆ …    │\n",
       "│ 2022 ┆ 1       ┆ 1     ┆ 6          ┆ … ┆ null             ┆               ┆             ┆ null │\n",
       "│ 2022 ┆ 1       ┆ 1     ┆ 6          ┆ … ┆ null             ┆               ┆             ┆ null │\n",
       "└──────┴─────────┴───────┴────────────┴───┴──────────────────┴───────────────┴─────────────┴──────┘"
      ]
     },
     "execution_count": 9,
     "metadata": {},
     "output_type": "execute_result"
    }
   ],
   "source": [
    "pl.Config().set_tbl_rows(5)\n",
    "df_pl = pl.read_csv(extracted, truncate_ragged_lines=False)\n",
    "df_pl"
   ]
  },
  {
   "cell_type": "code",
   "execution_count": 10,
   "metadata": {},
   "outputs": [
    {
     "data": {
      "text/plain": [
       "(537902, 110)"
      ]
     },
     "execution_count": 10,
     "metadata": {},
     "output_type": "execute_result"
    }
   ],
   "source": [
    "df_pl.shape"
   ]
  },
  {
   "cell_type": "code",
   "execution_count": 13,
   "metadata": {},
   "outputs": [
    {
     "data": {
      "text/html": [
       "<div><style>\n",
       ".dataframe > thead > tr,\n",
       ".dataframe > tbody > tr {\n",
       "  text-align: right;\n",
       "  white-space: pre-wrap;\n",
       "}\n",
       "</style>\n",
       "<small>shape: (4, 2)</small><table border=\"1\" class=\"dataframe\"><thead><tr><th>Dest</th><th>Tail_Number</th></tr><tr><td>str</td><td>str</td></tr></thead><tbody><tr><td>&quot;DCA&quot;</td><td>&quot;N132HQ&quot;</td></tr><tr><td>&quot;DCA&quot;</td><td>&quot;N109HQ&quot;</td></tr><tr><td>&quot;DCA&quot;</td><td>&quot;N421YX&quot;</td></tr><tr><td>&quot;DCA&quot;</td><td>&quot;N137HQ&quot;</td></tr></tbody></table></div>"
      ],
      "text/plain": [
       "shape: (4, 2)\n",
       "┌──────┬─────────────┐\n",
       "│ Dest ┆ Tail_Number │\n",
       "│ ---  ┆ ---         │\n",
       "│ str  ┆ str         │\n",
       "╞══════╪═════════════╡\n",
       "│ DCA  ┆ N132HQ      │\n",
       "│ DCA  ┆ N109HQ      │\n",
       "│ DCA  ┆ N421YX      │\n",
       "│ DCA  ┆ N137HQ      │\n",
       "└──────┴─────────────┘"
      ]
     },
     "execution_count": 13,
     "metadata": {},
     "output_type": "execute_result"
    }
   ],
   "source": [
    "df_pl.select([\"Dest\", \"Tail_Number\"]).head(16).tail(4)"
   ]
  },
  {
   "cell_type": "code",
   "execution_count": 23,
   "metadata": {},
   "outputs": [
    {
     "data": {
      "text/html": [
       "<div><style>\n",
       ".dataframe > thead > tr,\n",
       ".dataframe > tbody > tr {\n",
       "  text-align: right;\n",
       "  white-space: pre-wrap;\n",
       "}\n",
       "</style>\n",
       "<small>shape: (4, 2)</small><table border=\"1\" class=\"dataframe\"><thead><tr><th>Dest</th><th>Tail_Number</th></tr><tr><td>str</td><td>str</td></tr></thead><tbody><tr><td>&quot;DCA&quot;</td><td>&quot;N132HQ&quot;</td></tr><tr><td>&quot;DCA&quot;</td><td>&quot;N109HQ&quot;</td></tr><tr><td>&quot;DCA&quot;</td><td>&quot;N421YX&quot;</td></tr><tr><td>&quot;DCA&quot;</td><td>&quot;N137HQ&quot;</td></tr></tbody></table></div>"
      ],
      "text/plain": [
       "shape: (4, 2)\n",
       "┌──────┬─────────────┐\n",
       "│ Dest ┆ Tail_Number │\n",
       "│ ---  ┆ ---         │\n",
       "│ str  ┆ str         │\n",
       "╞══════╪═════════════╡\n",
       "│ DCA  ┆ N132HQ      │\n",
       "│ DCA  ┆ N109HQ      │\n",
       "│ DCA  ┆ N421YX      │\n",
       "│ DCA  ┆ N137HQ      │\n",
       "└──────┴─────────────┘"
      ]
     },
     "execution_count": 23,
     "metadata": {},
     "output_type": "execute_result"
    }
   ],
   "source": [
    "df_pl.select(pl.col([\"Dest\", \"Tail_Number\"]).gather(range(12,16)))"
   ]
  },
  {
   "cell_type": "code",
   "execution_count": 26,
   "metadata": {},
   "outputs": [
    {
     "data": {
      "text/html": [
       "<div><style>\n",
       ".dataframe > thead > tr,\n",
       ".dataframe > tbody > tr {\n",
       "  text-align: right;\n",
       "  white-space: pre-wrap;\n",
       "}\n",
       "</style>\n",
       "<small>shape: (138_363, 3)</small><table border=\"1\" class=\"dataframe\"><thead><tr><th>Airline</th><th>Dest</th><th>Tail_Number</th></tr><tr><td>str</td><td>str</td><td>str</td></tr></thead><tbody><tr><td>&quot;DL&quot;</td><td>&quot;LGA&quot;</td><td>&quot;N315DN&quot;</td></tr><tr><td>&quot;DL&quot;</td><td>&quot;FLL&quot;</td><td>&quot;N545US&quot;</td></tr><tr><td>&quot;DL&quot;</td><td>&quot;ATL&quot;</td><td>&quot;N545US&quot;</td></tr><tr><td>&hellip;</td><td>&hellip;</td><td>&hellip;</td></tr><tr><td>&quot;DL&quot;</td><td>&quot;ATL&quot;</td><td>&quot;N989AT&quot;</td></tr><tr><td>&quot;DL&quot;</td><td>&quot;PDX&quot;</td><td>&quot;N815DN&quot;</td></tr></tbody></table></div>"
      ],
      "text/plain": [
       "shape: (138_363, 3)\n",
       "┌─────────┬──────┬─────────────┐\n",
       "│ Airline ┆ Dest ┆ Tail_Number │\n",
       "│ ---     ┆ ---  ┆ ---         │\n",
       "│ str     ┆ str  ┆ str         │\n",
       "╞═════════╪══════╪═════════════╡\n",
       "│ DL      ┆ LGA  ┆ N315DN      │\n",
       "│ DL      ┆ FLL  ┆ N545US      │\n",
       "│ DL      ┆ ATL  ┆ N545US      │\n",
       "│ …       ┆ …    ┆ …           │\n",
       "│ DL      ┆ ATL  ┆ N989AT      │\n",
       "│ DL      ┆ PDX  ┆ N815DN      │\n",
       "└─────────┴──────┴─────────────┘"
      ]
     },
     "execution_count": 26,
     "metadata": {},
     "output_type": "execute_result"
    }
   ],
   "source": [
    "(\n",
    "    df_pl\n",
    "    .filter(pl.col(\"IATA_CODE_Reporting_Airline\").is_in(set([\"AA\", \"DL\"])))\n",
    "    .select(pl.col(\"IATA_CODE_Reporting_Airline\").alias(\"Airline\"), pl.col(\"Dest\"), pl.col(\"Tail_Number\"))\n",
    "\n",
    ")"
   ]
  },
  {
   "cell_type": "code",
   "execution_count": 28,
   "metadata": {},
   "outputs": [],
   "source": [
    "f = pl.DataFrame({'a': [1,2,3,4,5], 'b': [10,20,30,40,50]})"
   ]
  },
  {
   "cell_type": "code",
   "execution_count": 33,
   "metadata": {},
   "outputs": [],
   "source": [
    "f = f.with_columns(\n",
    "    pl.when(pl.col('a') <= 3)\n",
    "    .then(0)\n",
    "    .otherwise(1)\n",
    "    .alias('size')\n",
    ")"
   ]
  }
 ],
 "metadata": {
  "kernelspec": {
   "display_name": "PolarsBook",
   "language": "python",
   "name": "python3"
  },
  "language_info": {
   "codemirror_mode": {
    "name": "ipython",
    "version": 3
   },
   "file_extension": ".py",
   "mimetype": "text/x-python",
   "name": "python",
   "nbconvert_exporter": "python",
   "pygments_lexer": "ipython3",
   "version": "3.12.0"
  }
 },
 "nbformat": 4,
 "nbformat_minor": 2
}
